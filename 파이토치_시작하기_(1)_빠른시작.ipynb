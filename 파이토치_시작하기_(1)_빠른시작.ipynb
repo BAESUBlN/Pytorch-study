{
  "nbformat": 4,
  "nbformat_minor": 0,
  "metadata": {
    "colab": {
      "provenance": []
    },
    "kernelspec": {
      "name": "python3",
      "display_name": "Python 3"
    },
    "language_info": {
      "name": "python"
    }
  },
  "cells": [
    {
      "cell_type": "markdown",
      "source": [
        "# 데이터 작업하기"
      ],
      "metadata": {
        "id": "YUFmKgr1JCGF"
      }
    },
    {
      "cell_type": "markdown",
      "source": [
        "torchvision dataset 중 fashionMNIST data를 test data와 training data로 불러온다.\n",
        "\n",
        "다음 위와 같은 dataset을 dataloader의 인자로 전달한다. 사실 정확하게 무슨 의미인 지는 모르겠지만 내 생각에는 dataloader로 dataset을 전달함으로써 해당 데이터들을 학습에 용이하게끔 shuffle, batch, sampling 등이 가능하게 만드는 것 같다... maybe...\n"
      ],
      "metadata": {
        "id": "af-jt0WVGAt_"
      }
    },
    {
      "cell_type": "code",
      "execution_count": 1,
      "metadata": {
        "id": "x8LFDaTIBkBz"
      },
      "outputs": [],
      "source": [
        "import torch\n",
        "from torch import nn\n",
        "from torch.utils.data import DataLoader\n",
        "from torchvision import datasets\n",
        "from torchvision.transforms import ToTensor"
      ]
    },
    {
      "cell_type": "code",
      "source": [
        "# 공개 데이터셋에서 학습 데이터를 내려받습니다.\n",
        "training_data = datasets.FashionMNIST(\n",
        "    root=\"data\",\n",
        "    train=True,\n",
        "    download=True,\n",
        "    transform=ToTensor(),\n",
        ")\n",
        "\n",
        "# 공개 데이터셋에서 테스트 데이터를 내려받습니다.\n",
        "test_data = datasets.FashionMNIST(\n",
        "    root=\"data\",\n",
        "    train=False,\n",
        "    download=True,\n",
        "    transform=ToTensor(),\n",
        ")"
      ],
      "metadata": {
        "colab": {
          "base_uri": "https://localhost:8080/"
        },
        "id": "kxw6UCoeCknU",
        "outputId": "46b25943-17af-492c-fb9a-c3e33441dda8"
      },
      "execution_count": 2,
      "outputs": [
        {
          "output_type": "stream",
          "name": "stdout",
          "text": [
            "Downloading http://fashion-mnist.s3-website.eu-central-1.amazonaws.com/train-images-idx3-ubyte.gz\n",
            "Downloading http://fashion-mnist.s3-website.eu-central-1.amazonaws.com/train-images-idx3-ubyte.gz to data/FashionMNIST/raw/train-images-idx3-ubyte.gz\n"
          ]
        },
        {
          "output_type": "stream",
          "name": "stderr",
          "text": [
            "100%|██████████| 26421880/26421880 [00:03<00:00, 7478117.70it/s] \n"
          ]
        },
        {
          "output_type": "stream",
          "name": "stdout",
          "text": [
            "Extracting data/FashionMNIST/raw/train-images-idx3-ubyte.gz to data/FashionMNIST/raw\n",
            "\n",
            "Downloading http://fashion-mnist.s3-website.eu-central-1.amazonaws.com/train-labels-idx1-ubyte.gz\n",
            "Downloading http://fashion-mnist.s3-website.eu-central-1.amazonaws.com/train-labels-idx1-ubyte.gz to data/FashionMNIST/raw/train-labels-idx1-ubyte.gz\n"
          ]
        },
        {
          "output_type": "stream",
          "name": "stderr",
          "text": [
            "100%|██████████| 29515/29515 [00:00<00:00, 127979.43it/s]\n"
          ]
        },
        {
          "output_type": "stream",
          "name": "stdout",
          "text": [
            "Extracting data/FashionMNIST/raw/train-labels-idx1-ubyte.gz to data/FashionMNIST/raw\n",
            "\n",
            "Downloading http://fashion-mnist.s3-website.eu-central-1.amazonaws.com/t10k-images-idx3-ubyte.gz\n",
            "Downloading http://fashion-mnist.s3-website.eu-central-1.amazonaws.com/t10k-images-idx3-ubyte.gz to data/FashionMNIST/raw/t10k-images-idx3-ubyte.gz\n"
          ]
        },
        {
          "output_type": "stream",
          "name": "stderr",
          "text": [
            "100%|██████████| 4422102/4422102 [00:04<00:00, 1063314.85it/s]\n"
          ]
        },
        {
          "output_type": "stream",
          "name": "stdout",
          "text": [
            "Extracting data/FashionMNIST/raw/t10k-images-idx3-ubyte.gz to data/FashionMNIST/raw\n",
            "\n",
            "Downloading http://fashion-mnist.s3-website.eu-central-1.amazonaws.com/t10k-labels-idx1-ubyte.gz\n",
            "Downloading http://fashion-mnist.s3-website.eu-central-1.amazonaws.com/t10k-labels-idx1-ubyte.gz to data/FashionMNIST/raw/t10k-labels-idx1-ubyte.gz\n"
          ]
        },
        {
          "output_type": "stream",
          "name": "stderr",
          "text": [
            "100%|██████████| 5148/5148 [00:00<00:00, 5235760.67it/s]"
          ]
        },
        {
          "output_type": "stream",
          "name": "stdout",
          "text": [
            "Extracting data/FashionMNIST/raw/t10k-labels-idx1-ubyte.gz to data/FashionMNIST/raw\n",
            "\n"
          ]
        },
        {
          "output_type": "stream",
          "name": "stderr",
          "text": [
            "\n"
          ]
        }
      ]
    },
    {
      "cell_type": "code",
      "source": [
        "batch_size = 64\n",
        "\n",
        "# 데이터로더를 생성합니다.\n",
        "train_dataloader = DataLoader(training_data, batch_size=batch_size)\n",
        "test_dataloader = DataLoader(test_data, batch_size=batch_size)\n",
        "\n",
        "for X, y in test_dataloader:\n",
        "    print(f\"Shape of X [N, C, H, W]: {X.shape}\")\n",
        "    print(f\"Shape of y: {y.shape} {y.dtype}\")\n",
        "    break"
      ],
      "metadata": {
        "colab": {
          "base_uri": "https://localhost:8080/"
        },
        "id": "gZldoknXDANp",
        "outputId": "dbb287c7-b8fe-4351-bea0-d7576e9a0adb"
      },
      "execution_count": 3,
      "outputs": [
        {
          "output_type": "stream",
          "name": "stdout",
          "text": [
            "Shape of X [N, C, H, W]: torch.Size([64, 1, 28, 28])\n",
            "Shape of y: torch.Size([64]) torch.int64\n"
          ]
        }
      ]
    },
    {
      "cell_type": "markdown",
      "source": [
        "# 모델 만들기"
      ],
      "metadata": {
        "id": "IA2kuG77JJBp"
      }
    },
    {
      "cell_type": "markdown",
      "source": [
        "먼저 어떤 device(보통 cpu나 gpu)를 이용해 학습을 할 것인 지 정한 뒤, 모델을 정의한다.\n",
        "_init_을 이용해 학습을 진행할 모델의 layer를 설정한다. 모델을 정의하는 구체적인 방법은 뒤에 나올 예정"
      ],
      "metadata": {
        "id": "LD7spX9GMKDX"
      }
    },
    {
      "cell_type": "code",
      "source": [
        "# 학습에 사용할 CPU나 GPU, MPS 장치를 얻습니다.\n",
        "device = (\n",
        "    \"cuda\"\n",
        "    if torch.cuda.is_available()\n",
        "    else \"mps\"\n",
        "    if torch.backends.mps.is_available()\n",
        "    else \"cpu\"\n",
        ")\n",
        "print(f\"Using {device} device\")\n",
        "\n",
        "# 모델을 정의합니다.\n",
        "class NeuralNetwork(nn.Module):\n",
        "    def __init__(self):\n",
        "        super().__init__()\n",
        "        self.flatten = nn.Flatten()\n",
        "        self.linear_relu_stack = nn.Sequential(\n",
        "            nn.Linear(28*28, 512),\n",
        "            nn.ReLU(),\n",
        "            nn.Linear(512, 512),\n",
        "            nn.ReLU(),\n",
        "            nn.Linear(512, 10)\n",
        "        )\n",
        "\n",
        "    def forward(self, x):\n",
        "        x = self.flatten(x)\n",
        "        logits = self.linear_relu_stack(x)\n",
        "        return logits\n",
        "\n",
        "model = NeuralNetwork().to(device)\n",
        "print(model)"
      ],
      "metadata": {
        "colab": {
          "base_uri": "https://localhost:8080/"
        },
        "id": "ah51Ns6ZI78t",
        "outputId": "0a37e5d1-b279-497c-974c-82cdad2c4507"
      },
      "execution_count": 5,
      "outputs": [
        {
          "output_type": "stream",
          "name": "stdout",
          "text": [
            "Using cpu device\n",
            "NeuralNetwork(\n",
            "  (flatten): Flatten(start_dim=1, end_dim=-1)\n",
            "  (linear_relu_stack): Sequential(\n",
            "    (0): Linear(in_features=784, out_features=512, bias=True)\n",
            "    (1): ReLU()\n",
            "    (2): Linear(in_features=512, out_features=512, bias=True)\n",
            "    (3): ReLU()\n",
            "    (4): Linear(in_features=512, out_features=10, bias=True)\n",
            "  )\n",
            ")\n"
          ]
        }
      ]
    },
    {
      "cell_type": "markdown",
      "source": [
        "# 모델 매개변수 최적화하기"
      ],
      "metadata": {
        "id": "IV4EZah7JWkV"
      }
    },
    {
      "cell_type": "markdown",
      "source": [
        "모델 학습에 필요한 loss function과 optimizer를 정의\n",
        "\n",
        "이전 단계에서 생성한 dataloader를 이용해서 trainig과 test를 진행한다.\n",
        "\n",
        "training 이후에는 test를 진행하여 성능을 확인할 수 있다.\n",
        "(아래 코드에서는 epoch 5번으로 진행)"
      ],
      "metadata": {
        "id": "Jy0Ue4OWQLAM"
      }
    },
    {
      "cell_type": "code",
      "source": [
        "loss_fn = nn.CrossEntropyLoss()\n",
        "optimizer = torch.optim.SGD(model.parameters(), lr=1e-3)"
      ],
      "metadata": {
        "id": "p4ZXhW4EKczC"
      },
      "execution_count": 6,
      "outputs": []
    },
    {
      "cell_type": "code",
      "source": [
        "def train(dataloader, model, loss_fn, optimizer):\n",
        "    size = len(dataloader.dataset)\n",
        "    for batch, (X, y) in enumerate(dataloader):\n",
        "        X, y = X.to(device), y.to(device)\n",
        "\n",
        "        # 예측 오류 계산\n",
        "        pred = model(X)\n",
        "        loss = loss_fn(pred, y)\n",
        "\n",
        "        # 역전파\n",
        "        optimizer.zero_grad()\n",
        "        loss.backward()\n",
        "        optimizer.step()\n",
        "\n",
        "        if batch % 100 == 0:\n",
        "            loss, current = loss.item(), (batch + 1) * len(X)\n",
        "            print(f\"loss: {loss:>7f}  [{current:>5d}/{size:>5d}]\")"
      ],
      "metadata": {
        "id": "O3mK9MSOKc5l"
      },
      "execution_count": 7,
      "outputs": []
    },
    {
      "cell_type": "code",
      "source": [
        "def test(dataloader, model, loss_fn):\n",
        "    size = len(dataloader.dataset)\n",
        "    num_batches = len(dataloader)\n",
        "    model.eval()\n",
        "    test_loss, correct = 0, 0\n",
        "    with torch.no_grad():\n",
        "        for X, y in dataloader:\n",
        "            X, y = X.to(device), y.to(device)\n",
        "            pred = model(X)\n",
        "            test_loss += loss_fn(pred, y).item()\n",
        "            correct += (pred.argmax(1) == y).type(torch.float).sum().item()\n",
        "    test_loss /= num_batches\n",
        "    correct /= size\n",
        "    print(f\"Test Error: \\n Accuracy: {(100*correct):>0.1f}%, Avg loss: {test_loss:>8f} \\n\")"
      ],
      "metadata": {
        "id": "4-6mgpUlJAN2"
      },
      "execution_count": 8,
      "outputs": []
    },
    {
      "cell_type": "code",
      "source": [
        "epochs = 5\n",
        "for t in range(epochs):\n",
        "    print(f\"Epoch {t+1}\\n-------------------------------\")\n",
        "    train(train_dataloader, model, loss_fn, optimizer)\n",
        "    test(test_dataloader, model, loss_fn)\n",
        "print(\"Done!\")"
      ],
      "metadata": {
        "colab": {
          "base_uri": "https://localhost:8080/"
        },
        "id": "9fLut6yrSELj",
        "outputId": "8ccfa40b-7836-454d-dd1a-c28b805decda"
      },
      "execution_count": 9,
      "outputs": [
        {
          "output_type": "stream",
          "name": "stdout",
          "text": [
            "Epoch 1\n",
            "-------------------------------\n",
            "loss: 2.312913  [   64/60000]\n",
            "loss: 2.300011  [ 6464/60000]\n",
            "loss: 2.271227  [12864/60000]\n",
            "loss: 2.258134  [19264/60000]\n",
            "loss: 2.250363  [25664/60000]\n",
            "loss: 2.209229  [32064/60000]\n",
            "loss: 2.232571  [38464/60000]\n",
            "loss: 2.202788  [44864/60000]\n",
            "loss: 2.195877  [51264/60000]\n",
            "loss: 2.144537  [57664/60000]\n",
            "Test Error: \n",
            " Accuracy: 24.9%, Avg loss: 2.148339 \n",
            "\n",
            "Epoch 2\n",
            "-------------------------------\n",
            "loss: 2.167590  [   64/60000]\n",
            "loss: 2.163565  [ 6464/60000]\n",
            "loss: 2.096827  [12864/60000]\n",
            "loss: 2.111209  [19264/60000]\n",
            "loss: 2.059567  [25664/60000]\n",
            "loss: 1.992157  [32064/60000]\n",
            "loss: 2.035280  [38464/60000]\n",
            "loss: 1.962467  [44864/60000]\n",
            "loss: 1.967985  [51264/60000]\n",
            "loss: 1.876474  [57664/60000]\n",
            "Test Error: \n",
            " Accuracy: 53.9%, Avg loss: 1.882629 \n",
            "\n",
            "Epoch 3\n",
            "-------------------------------\n",
            "loss: 1.925225  [   64/60000]\n",
            "loss: 1.895024  [ 6464/60000]\n",
            "loss: 1.775904  [12864/60000]\n",
            "loss: 1.818434  [19264/60000]\n",
            "loss: 1.692001  [25664/60000]\n",
            "loss: 1.651503  [32064/60000]\n",
            "loss: 1.683506  [38464/60000]\n",
            "loss: 1.589338  [44864/60000]\n",
            "loss: 1.609200  [51264/60000]\n",
            "loss: 1.497988  [57664/60000]\n",
            "Test Error: \n",
            " Accuracy: 60.0%, Avg loss: 1.516718 \n",
            "\n",
            "Epoch 4\n",
            "-------------------------------\n",
            "loss: 1.588572  [   64/60000]\n",
            "loss: 1.552552  [ 6464/60000]\n",
            "loss: 1.403139  [12864/60000]\n",
            "loss: 1.477057  [19264/60000]\n",
            "loss: 1.342845  [25664/60000]\n",
            "loss: 1.346040  [32064/60000]\n",
            "loss: 1.366935  [38464/60000]\n",
            "loss: 1.295247  [44864/60000]\n",
            "loss: 1.320929  [51264/60000]\n",
            "loss: 1.222139  [57664/60000]\n",
            "Test Error: \n",
            " Accuracy: 62.6%, Avg loss: 1.249205 \n",
            "\n",
            "Epoch 5\n",
            "-------------------------------\n",
            "loss: 1.328824  [   64/60000]\n",
            "loss: 1.311799  [ 6464/60000]\n",
            "loss: 1.145914  [12864/60000]\n",
            "loss: 1.253680  [19264/60000]\n",
            "loss: 1.119509  [25664/60000]\n",
            "loss: 1.146291  [32064/60000]\n",
            "loss: 1.173472  [38464/60000]\n",
            "loss: 1.113644  [44864/60000]\n",
            "loss: 1.143963  [51264/60000]\n",
            "loss: 1.062142  [57664/60000]\n",
            "Test Error: \n",
            " Accuracy: 64.6%, Avg loss: 1.084530 \n",
            "\n",
            "Done!\n"
          ]
        }
      ]
    },
    {
      "cell_type": "markdown",
      "source": [
        "# 모델 저장하기&불러오기"
      ],
      "metadata": {
        "id": "sXMRSAw6R-2k"
      }
    },
    {
      "cell_type": "markdown",
      "source": [
        "일반적으로 모델을 저장할 때는 직렬화(serialization)를 해서 저장한다. 이후 저장한 모델을 다시 불러올 때는 역직렬화(de-serialization) 과정을 통해 원래 객체로 복원한다. 불러온 모델을 이용하여 학습을 진행할 수 있다."
      ],
      "metadata": {
        "id": "PX0zOdi4TTTg"
      }
    },
    {
      "cell_type": "code",
      "source": [
        "torch.save(model.state_dict(), \"model.pth\")\n",
        "print(\"Saved PyTorch Model State to model.pth\")"
      ],
      "metadata": {
        "colab": {
          "base_uri": "https://localhost:8080/"
        },
        "id": "dZZl0LIdSLmI",
        "outputId": "dc612bdd-72b0-4567-bab1-9998f97852e6"
      },
      "execution_count": 10,
      "outputs": [
        {
          "output_type": "stream",
          "name": "stdout",
          "text": [
            "Saved PyTorch Model State to model.pth\n"
          ]
        }
      ]
    },
    {
      "cell_type": "code",
      "source": [
        "model = NeuralNetwork().to(device)\n",
        "model.load_state_dict(torch.load(\"model.pth\"))"
      ],
      "metadata": {
        "colab": {
          "base_uri": "https://localhost:8080/"
        },
        "id": "iigcse1xSNv3",
        "outputId": "8bf4c5e6-f804-4d48-ed8a-21f230b48e35"
      },
      "execution_count": 11,
      "outputs": [
        {
          "output_type": "execute_result",
          "data": {
            "text/plain": [
              "<All keys matched successfully>"
            ]
          },
          "metadata": {},
          "execution_count": 11
        }
      ]
    },
    {
      "cell_type": "code",
      "source": [
        "classes = [\n",
        "    \"T-shirt/top\",\n",
        "    \"Trouser\",\n",
        "    \"Pullover\",\n",
        "    \"Dress\",\n",
        "    \"Coat\",\n",
        "    \"Sandal\",\n",
        "    \"Shirt\",\n",
        "    \"Sneaker\",\n",
        "    \"Bag\",\n",
        "    \"Ankle boot\",\n",
        "]\n",
        "\n",
        "model.eval()\n",
        "x, y = test_data[0][0], test_data[0][1]\n",
        "with torch.no_grad():\n",
        "    x = x.to(device)\n",
        "    pred = model(x)\n",
        "    predicted, actual = classes[pred[0].argmax(0)], classes[y]\n",
        "    print(f'Predicted: \"{predicted}\", Actual: \"{actual}\"')"
      ],
      "metadata": {
        "colab": {
          "base_uri": "https://localhost:8080/"
        },
        "id": "qIN5Nk1TSPo3",
        "outputId": "c9dcba20-fb40-4aed-9bbd-c4b76a6571e0"
      },
      "execution_count": 12,
      "outputs": [
        {
          "output_type": "stream",
          "name": "stdout",
          "text": [
            "Predicted: \"Ankle boot\", Actual: \"Ankle boot\"\n"
          ]
        }
      ]
    }
  ]
}